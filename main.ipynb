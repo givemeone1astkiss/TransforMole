{
 "cells": [
  {
   "cell_type": "code",
   "id": "initial_id",
   "metadata": {
    "collapsed": true,
    "ExecuteTime": {
     "end_time": "2025-03-09T09:12:32.178170Z",
     "start_time": "2025-03-09T09:12:25.300999Z"
    }
   },
   "source": [
    "from transformole.model import *\n",
    "import pytorch_lightning as pl\n",
    "from transformole.config import DATA_PATH, LOG_PATH, GEN_PATH\n",
    "from transformole.utils import *\n",
    "from torch.utils.data import DataLoader, TensorDataset"
   ],
   "outputs": [],
   "execution_count": 1
  },
  {
   "metadata": {
    "ExecuteTime": {
     "end_time": "2025-03-09T09:13:58.456555Z",
     "start_time": "2025-03-09T09:13:05.342952Z"
    }
   },
   "cell_type": "code",
   "source": [
    "# Sample dataset structure (should be DataLoader instances)\n",
    "Tokenizer = SmilesTokenizer(load_vocab=True)\n",
    "train_data = open(f\"{DATA_PATH}/moses/train.csv\").read().split(\"\\n\")\n",
    "train_data = TensorDataset(*Tokenizer.encode(smiles_list=train_data, max_length=100, padding=True, truncation=True, return_tensors=\"pt\"))\n",
    "train_data = DataLoader(dataset=train_data, batch_size=128, shuffle=True, num_workers=19, persistent_workers=True)"
   ],
   "id": "2be904c412d65538",
   "outputs": [
    {
     "name": "stdout",
     "output_type": "stream",
     "text": [
      "Vocabulary loaded successfully.\n"
     ]
    },
    {
     "name": "stderr",
     "output_type": "stream",
     "text": [
      "Encoding SMILES: 100%|██████████| 1584664/1584664 [00:16<00:00, 97112.21it/s] \n",
      "Padding sequences: 100%|██████████| 1584664/1584664 [00:09<00:00, 168418.72it/s]\n"
     ]
    }
   ],
   "execution_count": 2
  },
  {
   "metadata": {
    "ExecuteTime": {
     "end_time": "2025-03-09T11:39:53.332365300Z",
     "start_time": "2025-03-09T09:15:29.441039Z"
    }
   },
   "cell_type": "code",
   "source": [
    "from pytorch_lightning.loggers import TensorBoardLogger\n",
    "# Phase 1: Full-parameter pretraining\n",
    "pretrain_model = TransforMole(\n",
    "        vocab_size=100,\n",
    "        dim_model=256,\n",
    "        use_lora=False\n",
    ")\n",
    "# Phase 1: Full-parameter pretraining\n",
    "pretrain_logger = TensorBoardLogger(\n",
    "    save_dir=LOG_PATH,\n",
    "    name=\"pretrain\",\n",
    "    version=\"full_model\"\n",
    ")\n",
    "pretrain_trainer = pl.Trainer(\n",
    "    accelerator=\"auto\",\n",
    "    devices=1,\n",
    "    precision=\"16-mixed\",\n",
    "    max_epochs=10,\n",
    "    enable_progress_bar=True,\n",
    "    logger=pretrain_logger\n",
    ")\n",
    "pretrain_trainer.fit(pretrain_model, train_data)"
   ],
   "id": "eb0ab6ffa0a34b00",
   "outputs": [
    {
     "name": "stderr",
     "output_type": "stream",
     "text": [
      "Using 16bit Automatic Mixed Precision (AMP)\n",
      "D:\\program\\anaconda\\envs\\pytorch_cuda\\Lib\\site-packages\\pytorch_lightning\\plugins\\precision\\amp.py:52: `torch.cuda.amp.GradScaler(args...)` is deprecated. Please use `torch.amp.GradScaler('cuda', args...)` instead.\n",
      "GPU available: True (cuda), used: True\n",
      "TPU available: False, using: 0 TPU cores\n",
      "HPU available: False, using: 0 HPUs\n",
      "D:\\program\\anaconda\\envs\\pytorch_cuda\\Lib\\site-packages\\pytorch_lightning\\trainer\\configuration_validator.py:70: You defined a `validation_step` but have no `val_dataloader`. Skipping val loop.\n",
      "LOCAL_RANK: 0 - CUDA_VISIBLE_DEVICES: [0]\n",
      "\n",
      "  | Name        | Type               | Params | Mode \n",
      "-----------------------------------------------------------\n",
      "0 | embedding   | Embedding          | 25.6 K | train\n",
      "1 | pos_encoder | PositionalEncoding | 0      | train\n",
      "2 | transformer | ModuleList         | 4.7 M  | train\n",
      "3 | fc_out      | Linear             | 25.7 K | train\n",
      "4 | loss_fn     | CrossEntropyLoss   | 0      | train\n",
      "-----------------------------------------------------------\n",
      "4.8 M     Trainable params\n",
      "0         Non-trainable params\n",
      "4.8 M     Total params\n",
      "19.159    Total estimated model params size (MB)\n"
     ]
    },
    {
     "data": {
      "text/plain": [
       "Training: |          | 0/? [00:00<?, ?it/s]"
      ],
      "application/vnd.jupyter.widget-view+json": {
       "version_major": 2,
       "version_minor": 0,
       "model_id": "c68fb9dff969448c9ce88dfe45352db7"
      }
     },
     "metadata": {},
     "output_type": "display_data"
    }
   ],
   "execution_count": null
  },
  {
   "metadata": {},
   "cell_type": "code",
   "outputs": [],
   "execution_count": null,
   "source": [
    "FT_data = open(f\"{DATA_PATH}/guacamol/train.csv\").read().split(\"\\n\")\n",
    "FT_data = Tokenizer.encode(smiles_list=FT_data, max_length=100, padding=True, truncation=True, return_tensors=\"pt\", persistent_workers=True)"
   ],
   "id": "73b286e997c083ee"
  },
  {
   "metadata": {},
   "cell_type": "code",
   "outputs": [],
   "execution_count": null,
   "source": [
    "# Phase 2: LoRA Fine-tuning\n",
    "finetune_model = TransforMole(\n",
    "    vocab_size=100,\n",
    "    dim_model=256,\n",
    "    use_lora=True,\n",
    "    lora_rank=8,\n",
    "    lora_alpha=16\n",
    ")\n",
    "finetune_model.load_state_dict(pretrain_model.state_dict(), strict=False)\n",
    "finetune_logger = TensorBoardLogger(\n",
    "    save_dir=LOG_PATH,\n",
    "    name=\"finetune\",\n",
    "    version=\"lora_adjusted\"\n",
    ")\n",
    "finetune_trainer = pl.Trainer(\n",
    "    accelerator=\"auto\",\n",
    "    devices=1,\n",
    "    precision=\"16-mixed\",\n",
    "    max_epochs=5,\n",
    "    enable_progress_bar=True,\n",
    "    logger=finetune_logger,\n",
    ")\n",
    "finetune_trainer.fit(finetune_model, FT_data)\n",
    "\n",
    "# Phase 3: Molecule Generation\n",
    "finetune_model.generate(\n",
    "    num_samples=100,\n",
    "    max_length=90,\n",
    "    output_dir=GEN_PATH\n",
    ")"
   ],
   "id": "bcb78274d2322eab"
  }
 ],
 "metadata": {
  "kernelspec": {
   "display_name": "Python 3",
   "language": "python",
   "name": "python3"
  },
  "language_info": {
   "codemirror_mode": {
    "name": "ipython",
    "version": 2
   },
   "file_extension": ".py",
   "mimetype": "text/x-python",
   "name": "python",
   "nbconvert_exporter": "python",
   "pygments_lexer": "ipython2",
   "version": "2.7.6"
  }
 },
 "nbformat": 4,
 "nbformat_minor": 5
}
